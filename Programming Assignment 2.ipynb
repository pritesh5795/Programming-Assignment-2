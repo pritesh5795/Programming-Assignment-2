{
 "cells": [
  {
   "cell_type": "code",
   "execution_count": 4,
   "id": "19d4b94c",
   "metadata": {},
   "outputs": [
    {
     "name": "stdout",
     "output_type": "stream",
     "text": [
      "23\n",
      "23.0 kilometer is equal to 14.291533 mile\n"
     ]
    }
   ],
   "source": [
    "\"\"\"1.\tWrite a Python program to convert kilo meters to miles\"\"\"\n",
    "\n",
    "kilometer = float(input())\n",
    "a= 0.621371\n",
    "miles = kilometer * a\n",
    "print (kilometer, \"kilometer is equal to\", miles, \"mile\")"
   ]
  },
  {
   "cell_type": "code",
   "execution_count": 6,
   "id": "70e2a017",
   "metadata": {},
   "outputs": [
    {
     "name": "stdout",
     "output_type": "stream",
     "text": [
      "7.2\n",
      "7.2 degree celsius is equal to 44.96 fahrenheit\n"
     ]
    }
   ],
   "source": [
    "\"\"\"2.\tWrite a Python program to convert Celsius to Fahrenheit\"\"\"\n",
    "\n",
    "celsius = float(input())\n",
    "b = 32\n",
    "fahrenheit = celsius * (9/5) + b\n",
    "print (celsius, \"degree celsius is equal to\", fahrenheit, \"fahrenheit\")"
   ]
  },
  {
   "cell_type": "code",
   "execution_count": 7,
   "id": "dd1fd83d",
   "metadata": {},
   "outputs": [
    {
     "name": "stdout",
     "output_type": "stream",
     "text": [
      "2022\n",
      "1\n",
      "    January 2022\n",
      "Mo Tu We Th Fr Sa Su\n",
      "                1  2\n",
      " 3  4  5  6  7  8  9\n",
      "10 11 12 13 14 15 16\n",
      "17 18 19 20 21 22 23\n",
      "24 25 26 27 28 29 30\n",
      "31\n",
      "\n"
     ]
    }
   ],
   "source": [
    "\"\"\"3.\tWrite a Python program to display calendar\"\"\"\n",
    "\n",
    "import calendar\n",
    "yy = int(input())\n",
    "mm = int(input())\n",
    "print (calendar.month(yy , mm))\n"
   ]
  },
  {
   "cell_type": "code",
   "execution_count": 10,
   "id": "91b5418a",
   "metadata": {},
   "outputs": [
    {
     "name": "stdout",
     "output_type": "stream",
     "text": [
      "5\n",
      "9\n",
      "3\n",
      "the solutions are (-1.3582575694955838+0j) (-0.44174243050441603+0j)\n"
     ]
    }
   ],
   "source": [
    "\"\"\"4.\tWrite a Python program to solve quadratic equation\"\"\"\n",
    "\n",
    "import cmath\n",
    "a = int(input())\n",
    "b = int(input())\n",
    "c = int(input())\n",
    "d = (b**2) - (4*a*c)\n",
    "solution1 = (-b-cmath.sqrt(d)) / (2*a)\n",
    "solution2 = (-b+cmath.sqrt(d)) / (2*a)\n",
    "print (\"the solutions are\", solution1, solution2)"
   ]
  },
  {
   "cell_type": "code",
   "execution_count": 11,
   "id": "188b9b98",
   "metadata": {},
   "outputs": [
    {
     "name": "stdout",
     "output_type": "stream",
     "text": [
      "enter the value 10\n",
      "enter the value 20\n",
      "the value of a after swapping 20\n",
      "the value of y after swapping 10\n"
     ]
    }
   ],
   "source": [
    "\"\"\"5.\tWrite a Python program to swap two variables without temp variable\"\"\"\n",
    "\n",
    "a = input(\"enter the value \")\n",
    "b = input(\"enter the value \")\n",
    "\n",
    "z = a\n",
    "a = b\n",
    "b = z\n",
    "print (\"the value of a after swapping\", a)\n",
    "print (\"the value of y after swapping\", b)"
   ]
  },
  {
   "cell_type": "code",
   "execution_count": null,
   "id": "9e4cdd0d",
   "metadata": {},
   "outputs": [],
   "source": []
  }
 ],
 "metadata": {
  "kernelspec": {
   "display_name": "Python 3 (ipykernel)",
   "language": "python",
   "name": "python3"
  },
  "language_info": {
   "codemirror_mode": {
    "name": "ipython",
    "version": 3
   },
   "file_extension": ".py",
   "mimetype": "text/x-python",
   "name": "python",
   "nbconvert_exporter": "python",
   "pygments_lexer": "ipython3",
   "version": "3.9.7"
  }
 },
 "nbformat": 4,
 "nbformat_minor": 5
}
